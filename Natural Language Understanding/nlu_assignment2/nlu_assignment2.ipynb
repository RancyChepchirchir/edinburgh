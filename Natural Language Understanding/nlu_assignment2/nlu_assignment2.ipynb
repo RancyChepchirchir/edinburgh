{
 "cells": [
  {
   "cell_type": "markdown",
   "metadata": {},
   "source": [
    "# NLU: Assignment 2"
   ]
  },
  {
   "cell_type": "markdown",
   "metadata": {},
   "source": [
    "Preliminary stuff"
   ]
  },
  {
   "cell_type": "code",
   "execution_count": 4,
   "metadata": {
    "collapsed": false,
    "deletable": true,
    "editable": true
   },
   "outputs": [],
   "source": [
    "import os\n",
    "import numpy as np\n",
    "\n",
    "# from rnn import *\n",
    "from rnnmath import *\n",
    "# from test import *\n",
    "from utils import *\n",
    "\n",
    "# %load_ext autoreload\n",
    "# %autoreload"
   ]
  },
  {
   "cell_type": "code",
   "execution_count": 1,
   "metadata": {
    "collapsed": false
   },
   "outputs": [
    {
     "name": "stdout",
     "output_type": "stream",
     "text": [
      "### predicting y\n",
      "y passed\n",
      "s passed\n",
      "\n",
      "### computing loss and mean loss\n",
      "loss passed\n",
      "mean loss passed\n",
      "\n",
      "### standard BP\n",
      "deltaU passed\n",
      "deltaV passed\n",
      "deltaW passed\n",
      "\n",
      "### BPTT with 3 steps\n",
      "deltaU passed\n",
      "deltaV passed\n",
      "deltaW passed\n"
     ]
    }
   ],
   "source": [
    "import test"
   ]
  },
  {
   "cell_type": "markdown",
   "metadata": {},
   "source": [
    "## Question 1"
   ]
  },
  {
   "cell_type": "markdown",
   "metadata": {},
   "source": [
    "### Part b"
   ]
  },
  {
   "cell_type": "code",
   "execution_count": 64,
   "metadata": {
    "collapsed": false
   },
   "outputs": [
    {
     "data": {
      "text/plain": [
       "0.99999999999999989"
      ]
     },
     "execution_count": 64,
     "metadata": {},
     "output_type": "execute_result"
    }
   ],
   "source": [
    "sum(softmax(np.array([1, 2, 3])))"
   ]
  },
  {
   "cell_type": "markdown",
   "metadata": {},
   "source": [
    "### Part c"
   ]
  },
  {
   "cell_type": "code",
   "execution_count": 3,
   "metadata": {
    "collapsed": true,
    "deletable": true,
    "editable": true
   },
   "outputs": [],
   "source": [
    "U = np.array([[0.5, 0.3], [0.4, 0.2]])\n",
    "V = np.array([[0.2, 0.5, 0.1], [0.6, 0.1, 0.8]])\n",
    "W = np.array([[0.4, 0.2], [0.3, 0.1], [0.1, 0.7]])\n",
    "s0 = np.array([0.3, 0.6]).T\n",
    "x = np.array([0., 1., 0.]).T"
   ]
  },
  {
   "cell_type": "code",
   "execution_count": 4,
   "metadata": {
    "collapsed": true
   },
   "outputs": [],
   "source": [
    "s = sigmoid(np.dot(V, x) + np.dot(U, s0))"
   ]
  },
  {
   "cell_type": "code",
   "execution_count": 17,
   "metadata": {
    "collapsed": false
   },
   "outputs": [
    {
     "name": "stdout",
     "output_type": "stream",
     "text": [
      "[0.69635, 0.58419]\n"
     ]
    }
   ],
   "source": [
    "def array_to_sigfigs(array, sigfigs):\n",
    "    format_str = '{:.' + str(sigfigs) + 'g}'\n",
    "    return [float(format_str.format(i)) for i in array]\n",
    "\n",
    "print array_to_sigfigs(s, 3)  # [0.696, 0.584]"
   ]
  },
  {
   "cell_type": "markdown",
   "metadata": {},
   "source": [
    "### Part d"
   ]
  },
  {
   "cell_type": "code",
   "execution_count": 6,
   "metadata": {
    "collapsed": false,
    "scrolled": true
   },
   "outputs": [
    {
     "name": "stdout",
     "output_type": "stream",
     "text": [
      "[0.337, 0.297, 0.366]\n"
     ]
    }
   ],
   "source": [
    "y = softmax(np.dot(W, s))\n",
    "print array_to_sigfigs(y, 3)  # [0.337, 0.297, 0.366]"
   ]
  },
  {
   "cell_type": "code",
   "execution_count": 18,
   "metadata": {
    "collapsed": false
   },
   "outputs": [
    {
     "data": {
      "text/plain": [
       "array([ 0.39538008,  0.26732553,  0.47856886])"
      ]
     },
     "execution_count": 18,
     "metadata": {},
     "output_type": "execute_result"
    }
   ],
   "source": [
    "np.dot(W, s)"
   ]
  },
  {
   "cell_type": "markdown",
   "metadata": {},
   "source": [
    "## Question 2"
   ]
  },
  {
   "cell_type": "markdown",
   "metadata": {},
   "source": [
    "### Part a"
   ]
  },
  {
   "cell_type": "code",
   "execution_count": 7,
   "metadata": {
    "collapsed": true
   },
   "outputs": [],
   "source": [
    "d = np.array([0., 0., 1.]).T\n",
    "y2 = np.array([0.168, 0.229, 0.603]).T\n",
    "d2 = np.array([0., 0., 1.]).T\n",
    "y3 = np.array([0.475, 0.317, 0.208]).T\n",
    "d3 = np.array([0., 1., 0.]).T"
   ]
  },
  {
   "cell_type": "code",
   "execution_count": 8,
   "metadata": {
    "collapsed": true
   },
   "outputs": [],
   "source": [
    "calc_J = lambda d, y: -sum(d * np.log(y))\n",
    "format_J = lambda x: '{:.3g}'.format(x)"
   ]
  },
  {
   "cell_type": "code",
   "execution_count": 9,
   "metadata": {
    "collapsed": false
   },
   "outputs": [
    {
     "name": "stdout",
     "output_type": "stream",
     "text": [
      "1\n",
      "0.506\n",
      "1.15\n"
     ]
    }
   ],
   "source": [
    "print format_J(calc_J(d, y))\n",
    "print format_J(calc_J(d2, y2))\n",
    "print format_J(calc_J(d3, y3))"
   ]
  },
  {
   "cell_type": "markdown",
   "metadata": {},
   "source": [
    "## Question 3"
   ]
  },
  {
   "cell_type": "markdown",
   "metadata": {},
   "source": [
    "### Part a"
   ]
  },
  {
   "cell_type": "code",
   "execution_count": 7,
   "metadata": {
    "collapsed": false
   },
   "outputs": [
    {
     "data": {
      "text/plain": [
       "3"
      ]
     },
     "execution_count": 7,
     "metadata": {},
     "output_type": "execute_result"
    }
   ],
   "source": [
    "def tmp_fun(x, y):\n",
    "    return x + y\n",
    "\n",
    "tmp_fun(*[1, 2])"
   ]
  },
  {
   "cell_type": "code",
   "execution_count": 61,
   "metadata": {
    "collapsed": false
   },
   "outputs": [
    {
     "data": {
      "text/plain": [
       "2"
      ]
     },
     "execution_count": 61,
     "metadata": {},
     "output_type": "execute_result"
    }
   ],
   "source": [
    "multinomial_sample(np.array([0.0, 0.1, 0.9]))"
   ]
  },
  {
   "cell_type": "code",
   "execution_count": 69,
   "metadata": {
    "collapsed": false
   },
   "outputs": [
    {
     "name": "stdout",
     "output_type": "stream",
     "text": [
      "[1 0 0 4 5]\n"
     ]
    }
   ],
   "source": [
    "tmp = np.array([1, 2, 3, 4, 5])\n",
    "tmp[[1, 2]] = 0\n",
    "print tmp"
   ]
  },
  {
   "cell_type": "code",
   "execution_count": null,
   "metadata": {
    "collapsed": true
   },
   "outputs": [],
   "source": []
  }
 ],
 "metadata": {
  "kernelspec": {
   "display_name": "Python 2",
   "language": "python",
   "name": "python2"
  },
  "language_info": {
   "codemirror_mode": {
    "name": "ipython",
    "version": 2
   },
   "file_extension": ".py",
   "mimetype": "text/x-python",
   "name": "python",
   "nbconvert_exporter": "python",
   "pygments_lexer": "ipython2",
   "version": "2.7.12"
  }
 },
 "nbformat": 4,
 "nbformat_minor": 2
}
