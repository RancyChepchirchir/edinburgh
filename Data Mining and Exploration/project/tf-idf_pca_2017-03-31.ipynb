{
 "cells": [
  {
   "cell_type": "markdown",
   "metadata": {},
   "source": [
    "Specify code parameters."
   ]
  },
  {
   "cell_type": "code",
   "execution_count": 11,
   "metadata": {
    "collapsed": true
   },
   "outputs": [],
   "source": [
    "user = 'chris'  # 'chris' or 'elias'\n",
    "embedding_type = 'tf'  # 'tf' or 'tf-df'\n",
    "is_debug = False\n",
    "K = 1000  # number of principal components"
   ]
  },
  {
   "cell_type": "code",
   "execution_count": 2,
   "metadata": {
    "collapsed": false,
    "deletable": true,
    "editable": true
   },
   "outputs": [],
   "source": [
    "if user == 'elias':\n",
    "    project_dir = 'C:/Users/Elias/Documents/DME/'\n",
    "    data_dir = 'C:/Users/Elias/Documents/DME/data/'\n",
    "elif user == 'chris':\n",
    "    project_dir = '/Users/sipola/Google Drive/education/coursework/graduate/edinburgh/dme/project'\n",
    "    data_dir = '/Users/sipola/Desktop/v2-all_in_one'\n",
    "else:\n",
    "    raise ValueError('Give valid user')"
   ]
  },
  {
   "cell_type": "markdown",
   "metadata": {},
   "source": [
    "Import everything else."
   ]
  },
  {
   "cell_type": "code",
   "execution_count": 136,
   "metadata": {
    "collapsed": false,
    "deletable": true,
    "editable": true
   },
   "outputs": [],
   "source": [
    "os.chdir(project_dir)  # to import scripts\n",
    "\n",
    "import os\n",
    "import numpy as np\n",
    "import re\n",
    "import time\n",
    "import pandas as pd\n",
    "from sklearn.decomposition import PCA\n",
    "from sklearn.decomposition import IncrementalPCA\n",
    "from sklearn.preprocessing import StandardScaler\n",
    "from sklearn.model_selection import train_test_split\n",
    "import seaborn as sns\n",
    "from scripts import *\n",
    "\n",
    "%matplotlib inline\n",
    "\n",
    "os.chdir(data_dir)  # since we'll be pulling everything from here"
   ]
  },
  {
   "cell_type": "code",
   "execution_count": 5,
   "metadata": {
    "collapsed": false,
    "deletable": true,
    "editable": true
   },
   "outputs": [],
   "source": [
    "# Read labels in first so know which histids to keep when reading tfdf data.\n",
    "y_full, keys_labels = read_transform_labels('labels/en.useful-labels.csv')\n",
    "# print y_full.head()\n",
    "# print keys_labels"
   ]
  },
  {
   "cell_type": "code",
   "execution_count": 8,
   "metadata": {
    "collapsed": false,
    "deletable": true,
    "editable": true
   },
   "outputs": [
    {
     "name": "stdout",
     "output_type": "stream",
     "text": [
      "run time: 0.46 min\n"
     ]
    }
   ],
   "source": [
    "# Create dictionary with {hostid: sparse vector}. There are something like 60,000 rows in the full data set (unless subsetting for hostids.).\n",
    "t0 = time.time()\n",
    "tfdf_filename = 'features/tfdf/v2-host_tfdf_en.txt' if user == 'elias' else 'features/tfdf/v2-host_tfdf.en.txt'\n",
    "sparse = create_sparse_embeddings(tfdf_filename,\n",
    "                                  hostids=y_full['ID'].tolist(),\n",
    "                                  embedding_type=embedding_type)\n",
    "print_run_time(t0)"
   ]
  },
  {
   "cell_type": "code",
   "execution_count": 12,
   "metadata": {
    "collapsed": false,
    "deletable": true,
    "editable": true
   },
   "outputs": [],
   "source": [
    "if is_debug:\n",
    "    # Look at entry for one hostid.\n",
    "    print 'num rows in data: {}'.format(len(tf_idf_sparse))\n",
    "    print 15*'='\n",
    "    print 'first row:\\nhostid: {}\\nwordids and tf-idf values: {}'.format(tf_idf_sparse.keys()[0], tf_idf_sparse.values()[0])"
   ]
  },
  {
   "cell_type": "code",
   "execution_count": 15,
   "metadata": {
    "collapsed": false,
    "deletable": true,
    "editable": true
   },
   "outputs": [],
   "source": [
    "# Convert to DataFrame.\n",
    "X = pd.DataFrame.from_dict(sparse, orient='index')  # convert to DataFrame\n",
    "\n",
    "if embedding_type == 'tf-idf':\n",
    "    \n",
    "    min_val = min(X.min())  # get min of entire matrix\n",
    "    if is_debug:\n",
    "        print 'minimum value: {}'.format(min_val)\n",
    "    X = X - min_val  # make so lowest value is zero\n",
    "\n",
    "X = X.fillna(0)  # fill NaNs with zeros\n",
    "\n",
    "if is_debug:\n",
    "    X  # show X"
   ]
  },
  {
   "cell_type": "code",
   "execution_count": 16,
   "metadata": {
    "collapsed": false,
    "deletable": true,
    "editable": true
   },
   "outputs": [],
   "source": [
    "if is_debug:\n",
    "    print X.shape"
   ]
  },
  {
   "cell_type": "code",
   "execution_count": 17,
   "metadata": {
    "collapsed": true,
    "deletable": true,
    "editable": true
   },
   "outputs": [],
   "source": [
    "hostids = X.index.values  # save for later"
   ]
  },
  {
   "cell_type": "code",
   "execution_count": 45,
   "metadata": {
    "collapsed": false,
    "deletable": true,
    "editable": true
   },
   "outputs": [],
   "source": [
    "X_scaled = StandardScaler().fit_transform(X)  # is this how you do this??????"
   ]
  },
  {
   "cell_type": "code",
   "execution_count": 46,
   "metadata": {
    "collapsed": false,
    "deletable": true,
    "editable": true
   },
   "outputs": [
    {
     "name": "stdout",
     "output_type": "stream",
     "text": [
      "run time: 0.94 min\n"
     ]
    }
   ],
   "source": [
    "# Fit PCA incrementally (otherwise there are memory issues)\n",
    "# http://stackoverflow.com/a/32191686\n",
    "t0 = time.time()\n",
    "ipca = IncrementalPCA(n_components=K)\n",
    "X_fit = ipca.fit_transform(X_scaled)\n",
    "print_run_time(t0)"
   ]
  },
  {
   "cell_type": "code",
   "execution_count": 85,
   "metadata": {
    "collapsed": false
   },
   "outputs": [],
   "source": [
    "if is_debug:\n",
    "    sns.distplot(X_fit.ix[:,1])\n",
    "    print np.std(X_fit)\n",
    "    print X_fit.shape"
   ]
  },
  {
   "cell_type": "code",
   "execution_count": 48,
   "metadata": {
    "collapsed": false,
    "deletable": true,
    "editable": true
   },
   "outputs": [],
   "source": [
    "X_fit = pd.DataFrame(X_fit)\n",
    "X_fit['ID'] = hostids\n",
    "if is_debug:\n",
    "    X_fit"
   ]
  },
  {
   "cell_type": "code",
   "execution_count": 87,
   "metadata": {
    "collapsed": false,
    "deletable": true,
    "editable": true
   },
   "outputs": [],
   "source": [
    "X_full = pd.merge(y_full, X_fit, on='ID')"
   ]
  },
  {
   "cell_type": "code",
   "execution_count": 118,
   "metadata": {
    "collapsed": false
   },
   "outputs": [],
   "source": [
    "# y_full.ix[y_full.loc[:,'ID'] == 88495]"
   ]
  },
  {
   "cell_type": "code",
   "execution_count": 119,
   "metadata": {
    "collapsed": false
   },
   "outputs": [],
   "source": [
    "# X_full.ix[X_full.duplicated(subset='ID', keep=False)]\n",
    "if is_debug:\n",
    "    print 'numer of rows: {}'.format(X_full.shape)\n",
    "X_full = X_full.drop_duplicates(subset='ID')\n",
    "if is_debug:\n",
    "    print 'numer of rows: {}'.format(X_full.shape)"
   ]
  },
  {
   "cell_type": "code",
   "execution_count": 127,
   "metadata": {
    "collapsed": false,
    "deletable": true,
    "editable": true
   },
   "outputs": [],
   "source": [
    "# if is_debug:\n",
    "#     # Why are there now more rows? Duplicates in label data?\n",
    "#     print 'num IDs in full but not in fit: {}'.format(sum([x not in X_fit['ID'].tolist() for x in X_full['ID'].tolist()]))  # 0\n",
    "#     print 'num IDs in labels: {}'.format(len(y_full['ID'].tolist()))\n",
    "#     print 'num *unique* IDs in labels: {}'.format(len(set(y_full['ID'].tolist())))\n",
    "\n",
    "#     # Answer: yes, duplicates in label data."
   ]
  },
  {
   "cell_type": "code",
   "execution_count": 132,
   "metadata": {
    "collapsed": false,
    "deletable": true,
    "editable": true
   },
   "outputs": [],
   "source": [
    "X_train_keys = X_fit.keys().drop('ID')"
   ]
  },
  {
   "cell_type": "code",
   "execution_count": 342,
   "metadata": {
    "collapsed": false,
    "deletable": true,
    "editable": true
   },
   "outputs": [],
   "source": [
    "if is_debug:\n",
    "    print keys_labels"
   ]
  },
  {
   "cell_type": "code",
   "execution_count": 225,
   "metadata": {
    "collapsed": false
   },
   "outputs": [],
   "source": [
    "def get_train_valid_data(X_full, label, X_train_keys, is_debug=False):\n",
    "    \n",
    "    # Remove rows with bad target data.\n",
    "    if is_debug:\n",
    "        print 'dropping {} out of {} rows for bad {} data...'.format(sum(X_full.loc[:,label] == 0), X_full.shape[0], label)\n",
    "    X_ = X_full.ix[X_full.loc[:,label] != 0]\n",
    "    \n",
    "    # Add y column (binary: 0, 1).\n",
    "    X_.y = [int(x) for x in X_.loc[:,label] == 1]\n",
    "    \n",
    "    # Drop unneeded columns.\n",
    "    keep_col_bool = [c in X_train_keys or c=='y' for c in X_.columns]\n",
    "    X_ = X_.loc[:, keep_col_bool]\n",
    "    \n",
    "    # Split into test and validation.\n",
    "    # http://scikit-learn.org/stable/modules/generated/sklearn.model_selection.train_test_split.html\n",
    "    X_train, X_valid, y_train, y_valid = train_test_split(X_[X_train_keys], X_['y'])\n",
    "    \n",
    "    return X_train, X_valid, y_train, y_valid\n",
    "\n",
    "# get_train_valid_data(X_full, labels[0], X_train_keys)[0]"
   ]
  },
  {
   "cell_type": "code",
   "execution_count": 343,
   "metadata": {
    "collapsed": false
   },
   "outputs": [
    {
     "name": "stdout",
     "output_type": "stream",
     "text": [
      "\n",
      "=====\n",
      "label: News/Editorial\n",
      "=====\n",
      "model: dummy\n",
      "model: MLP\n",
      "model: naive Bayes\n",
      "model: logistic regression\n",
      "\n",
      "=====\n",
      "label: Commercial\n",
      "=====\n",
      "model: dummy\n",
      "model: MLP\n",
      "model: naive Bayes\n",
      "model: logistic regression\n",
      "\n",
      "=====\n",
      "label: Educational/Research\n",
      "=====\n",
      "model: dummy\n",
      "model: MLP\n",
      "model: naive Bayes\n",
      "model: logistic regression\n",
      "\n",
      "=====\n",
      "label: Discussion\n",
      "=====\n",
      "model: dummy\n",
      "model: MLP\n",
      "model: naive Bayes\n",
      "model: logistic regression\n",
      "\n",
      "=====\n",
      "label: Personal/Leisure\n",
      "=====\n",
      "model: dummy\n",
      "model: MLP\n",
      "model: naive Bayes\n",
      "model: logistic regression\n",
      "\n",
      "=====\n",
      "label: Media\n",
      "=====\n",
      "model: dummy\n",
      "model: MLP\n",
      "model: naive Bayes\n",
      "model: logistic regression\n"
     ]
    }
   ],
   "source": [
    "from sklearn.linear_model import LogisticRegression\n",
    "from sklearn.dummy import DummyClassifier\n",
    "from sklearn.naive_bayes import GaussianNB\n",
    "from sklearn.neural_network import MLPClassifier\n",
    "from sklearn.metrics import f1_score\n",
    "\n",
    "labels = ['News/Editorial', 'Commercial', 'Educational/Research', 'Discussion', 'Personal/Leisure', 'Media']\n",
    "models_dict = {'dummy': DummyClassifier(),\n",
    "               'logistic regression': LogisticRegression(),\n",
    "               'naive Bayes': GaussianNB(),\n",
    "               'MLP': None  #MLPClassifier()  # needs K, so defined in K loop\n",
    "              }\n",
    "K_to_use = [1, 2, 3, 4, 5, 7, 10, 25, 100, 250, 1000]\n",
    "\n",
    "stats = {}\n",
    "\n",
    "for label in labels:\n",
    "    \n",
    "    print '\\n=====\\nlabel: {}\\n====='.format(label)\n",
    "    label_stats = {}\n",
    "\n",
    "    for model_name, model in models_dict.iteritems():\n",
    "\n",
    "        print 'model: {}'.format(model_name)\n",
    "        model_stats = {}\n",
    "\n",
    "        for kk in K_to_use:\n",
    "\n",
    "            K_stats = {}\n",
    "            \n",
    "            if model_name == 'MLP':\n",
    "                model = MLPClassifier(hidden_layer_sizes=(kk, np.ceil(np.sqrt(kk)),))\n",
    "\n",
    "            # print '\\trunning k={}...'.format(kk)\n",
    "            # print model\n",
    "\n",
    "            X_train, X_valid, y_train, y_valid = get_train_valid_data(X_full, label, X_train_keys)\n",
    "            X_train = X_train.loc[:, range(kk)]\n",
    "            X_valid = X_valid.loc[:, range(kk)]\n",
    "\n",
    "            fit = model.fit(X_train, y_train)\n",
    "\n",
    "            K_stats['acc(train)'] = fit.score(X_train, y_train)\n",
    "            K_stats['acc(valid)'] = fit.score(X_valid, y_valid)\n",
    "            K_stats['f1(train)'] = f1_score(y_train, fit.predict(X_train))\n",
    "            K_stats['f1(valid)'] = f1_score(y_valid, fit.predict(X_valid))\n",
    "\n",
    "            model_stats[kk] = K_stats\n",
    "\n",
    "        label_stats[model_name] = model_stats\n",
    "        \n",
    "    stats[label] = label_stats"
   ]
  },
  {
   "cell_type": "code",
   "execution_count": 347,
   "metadata": {
    "collapsed": false
   },
   "outputs": [
    {
     "data": {
      "text/html": [
       "<div>\n",
       "<table border=\"1\" class=\"dataframe\">\n",
       "  <thead>\n",
       "    <tr style=\"text-align: right;\">\n",
       "      <th></th>\n",
       "      <th>1</th>\n",
       "      <th>2</th>\n",
       "      <th>3</th>\n",
       "      <th>4</th>\n",
       "      <th>5</th>\n",
       "      <th>7</th>\n",
       "      <th>10</th>\n",
       "      <th>25</th>\n",
       "      <th>100</th>\n",
       "      <th>250</th>\n",
       "      <th>1000</th>\n",
       "    </tr>\n",
       "  </thead>\n",
       "  <tbody>\n",
       "    <tr>\n",
       "      <th>acc(train)</th>\n",
       "      <td>0.538776</td>\n",
       "      <td>0.518367</td>\n",
       "      <td>0.515306</td>\n",
       "      <td>0.520408</td>\n",
       "      <td>0.508163</td>\n",
       "      <td>0.500000</td>\n",
       "      <td>0.504082</td>\n",
       "      <td>0.507143</td>\n",
       "      <td>0.506122</td>\n",
       "      <td>0.494898</td>\n",
       "      <td>0.483673</td>\n",
       "    </tr>\n",
       "    <tr>\n",
       "      <th>acc(valid)</th>\n",
       "      <td>0.492355</td>\n",
       "      <td>0.538226</td>\n",
       "      <td>0.461774</td>\n",
       "      <td>0.513761</td>\n",
       "      <td>0.495413</td>\n",
       "      <td>0.510703</td>\n",
       "      <td>0.541284</td>\n",
       "      <td>0.474006</td>\n",
       "      <td>0.434251</td>\n",
       "      <td>0.532110</td>\n",
       "      <td>0.483180</td>\n",
       "    </tr>\n",
       "    <tr>\n",
       "      <th>f1(train)</th>\n",
       "      <td>0.418431</td>\n",
       "      <td>0.443407</td>\n",
       "      <td>0.444982</td>\n",
       "      <td>0.438257</td>\n",
       "      <td>0.417736</td>\n",
       "      <td>0.449883</td>\n",
       "      <td>0.455491</td>\n",
       "      <td>0.446784</td>\n",
       "      <td>0.441463</td>\n",
       "      <td>0.427046</td>\n",
       "      <td>0.458182</td>\n",
       "    </tr>\n",
       "    <tr>\n",
       "      <th>f1(valid)</th>\n",
       "      <td>0.438849</td>\n",
       "      <td>0.534247</td>\n",
       "      <td>0.490066</td>\n",
       "      <td>0.404040</td>\n",
       "      <td>0.390071</td>\n",
       "      <td>0.372414</td>\n",
       "      <td>0.386861</td>\n",
       "      <td>0.467797</td>\n",
       "      <td>0.429066</td>\n",
       "      <td>0.462069</td>\n",
       "      <td>0.482759</td>\n",
       "    </tr>\n",
       "  </tbody>\n",
       "</table>\n",
       "</div>"
      ],
      "text/plain": [
       "                1         2         3         4         5         7     \\\n",
       "acc(train)  0.538776  0.518367  0.515306  0.520408  0.508163  0.500000   \n",
       "acc(valid)  0.492355  0.538226  0.461774  0.513761  0.495413  0.510703   \n",
       "f1(train)   0.418431  0.443407  0.444982  0.438257  0.417736  0.449883   \n",
       "f1(valid)   0.438849  0.534247  0.490066  0.404040  0.390071  0.372414   \n",
       "\n",
       "                10        25        100       250       1000  \n",
       "acc(train)  0.504082  0.507143  0.506122  0.494898  0.483673  \n",
       "acc(valid)  0.541284  0.474006  0.434251  0.532110  0.483180  \n",
       "f1(train)   0.455491  0.446784  0.441463  0.427046  0.458182  \n",
       "f1(valid)   0.386861  0.467797  0.429066  0.462069  0.482759  "
      ]
     },
     "execution_count": 347,
     "metadata": {},
     "output_type": "execute_result"
    }
   ],
   "source": [
    "label = labels[1]\n",
    "pd.DataFrame(stats[label]['dummy'])"
   ]
  },
  {
   "cell_type": "code",
   "execution_count": 348,
   "metadata": {
    "collapsed": false
   },
   "outputs": [
    {
     "data": {
      "text/html": [
       "<div>\n",
       "<table border=\"1\" class=\"dataframe\">\n",
       "  <thead>\n",
       "    <tr style=\"text-align: right;\">\n",
       "      <th></th>\n",
       "      <th>1</th>\n",
       "      <th>2</th>\n",
       "      <th>3</th>\n",
       "      <th>4</th>\n",
       "      <th>5</th>\n",
       "      <th>7</th>\n",
       "      <th>10</th>\n",
       "      <th>25</th>\n",
       "      <th>100</th>\n",
       "      <th>250</th>\n",
       "      <th>1000</th>\n",
       "    </tr>\n",
       "  </thead>\n",
       "  <tbody>\n",
       "    <tr>\n",
       "      <th>acc(train)</th>\n",
       "      <td>0.572449</td>\n",
       "      <td>0.567347</td>\n",
       "      <td>0.570408</td>\n",
       "      <td>0.572449</td>\n",
       "      <td>0.564286</td>\n",
       "      <td>0.585714</td>\n",
       "      <td>0.587755</td>\n",
       "      <td>0.608163</td>\n",
       "      <td>0.673469</td>\n",
       "      <td>0.739796</td>\n",
       "      <td>0.882653</td>\n",
       "    </tr>\n",
       "    <tr>\n",
       "      <th>acc(valid)</th>\n",
       "      <td>0.544343</td>\n",
       "      <td>0.559633</td>\n",
       "      <td>0.553517</td>\n",
       "      <td>0.559633</td>\n",
       "      <td>0.590214</td>\n",
       "      <td>0.587156</td>\n",
       "      <td>0.593272</td>\n",
       "      <td>0.648318</td>\n",
       "      <td>0.605505</td>\n",
       "      <td>0.559633</td>\n",
       "      <td>0.614679</td>\n",
       "    </tr>\n",
       "    <tr>\n",
       "      <th>f1(train)</th>\n",
       "      <td>0.000000</td>\n",
       "      <td>0.000000</td>\n",
       "      <td>0.004728</td>\n",
       "      <td>0.027842</td>\n",
       "      <td>0.040449</td>\n",
       "      <td>0.157676</td>\n",
       "      <td>0.158333</td>\n",
       "      <td>0.278195</td>\n",
       "      <td>0.457627</td>\n",
       "      <td>0.584013</td>\n",
       "      <td>0.851995</td>\n",
       "    </tr>\n",
       "    <tr>\n",
       "      <th>f1(valid)</th>\n",
       "      <td>0.000000</td>\n",
       "      <td>0.000000</td>\n",
       "      <td>0.000000</td>\n",
       "      <td>0.013699</td>\n",
       "      <td>0.042857</td>\n",
       "      <td>0.081633</td>\n",
       "      <td>0.203593</td>\n",
       "      <td>0.294479</td>\n",
       "      <td>0.351759</td>\n",
       "      <td>0.414634</td>\n",
       "      <td>0.536765</td>\n",
       "    </tr>\n",
       "  </tbody>\n",
       "</table>\n",
       "</div>"
      ],
      "text/plain": [
       "                1         2         3         4         5         7     \\\n",
       "acc(train)  0.572449  0.567347  0.570408  0.572449  0.564286  0.585714   \n",
       "acc(valid)  0.544343  0.559633  0.553517  0.559633  0.590214  0.587156   \n",
       "f1(train)   0.000000  0.000000  0.004728  0.027842  0.040449  0.157676   \n",
       "f1(valid)   0.000000  0.000000  0.000000  0.013699  0.042857  0.081633   \n",
       "\n",
       "                10        25        100       250       1000  \n",
       "acc(train)  0.587755  0.608163  0.673469  0.739796  0.882653  \n",
       "acc(valid)  0.593272  0.648318  0.605505  0.559633  0.614679  \n",
       "f1(train)   0.158333  0.278195  0.457627  0.584013  0.851995  \n",
       "f1(valid)   0.203593  0.294479  0.351759  0.414634  0.536765  "
      ]
     },
     "execution_count": 348,
     "metadata": {},
     "output_type": "execute_result"
    }
   ],
   "source": [
    "pd.DataFrame(stats[label]['logistic regression'])"
   ]
  },
  {
   "cell_type": "code",
   "execution_count": 349,
   "metadata": {
    "collapsed": false
   },
   "outputs": [
    {
     "data": {
      "text/html": [
       "<div>\n",
       "<table border=\"1\" class=\"dataframe\">\n",
       "  <thead>\n",
       "    <tr style=\"text-align: right;\">\n",
       "      <th></th>\n",
       "      <th>1</th>\n",
       "      <th>2</th>\n",
       "      <th>3</th>\n",
       "      <th>4</th>\n",
       "      <th>5</th>\n",
       "      <th>7</th>\n",
       "      <th>10</th>\n",
       "      <th>25</th>\n",
       "      <th>100</th>\n",
       "      <th>250</th>\n",
       "      <th>1000</th>\n",
       "    </tr>\n",
       "  </thead>\n",
       "  <tbody>\n",
       "    <tr>\n",
       "      <th>acc(train)</th>\n",
       "      <td>0.556122</td>\n",
       "      <td>0.564286</td>\n",
       "      <td>0.539796</td>\n",
       "      <td>0.568367</td>\n",
       "      <td>0.542857</td>\n",
       "      <td>0.601020</td>\n",
       "      <td>0.594898</td>\n",
       "      <td>0.573469</td>\n",
       "      <td>0.680612</td>\n",
       "      <td>0.705102</td>\n",
       "      <td>0.902041</td>\n",
       "    </tr>\n",
       "    <tr>\n",
       "      <th>acc(valid)</th>\n",
       "      <td>0.593272</td>\n",
       "      <td>0.562691</td>\n",
       "      <td>0.571865</td>\n",
       "      <td>0.559633</td>\n",
       "      <td>0.568807</td>\n",
       "      <td>0.590214</td>\n",
       "      <td>0.559633</td>\n",
       "      <td>0.553517</td>\n",
       "      <td>0.620795</td>\n",
       "      <td>0.626911</td>\n",
       "      <td>0.550459</td>\n",
       "    </tr>\n",
       "    <tr>\n",
       "      <th>f1(train)</th>\n",
       "      <td>0.000000</td>\n",
       "      <td>0.009281</td>\n",
       "      <td>0.548549</td>\n",
       "      <td>0.004706</td>\n",
       "      <td>0.013216</td>\n",
       "      <td>0.290381</td>\n",
       "      <td>0.194726</td>\n",
       "      <td>0.264085</td>\n",
       "      <td>0.470389</td>\n",
       "      <td>0.546311</td>\n",
       "      <td>0.894273</td>\n",
       "    </tr>\n",
       "    <tr>\n",
       "      <th>f1(valid)</th>\n",
       "      <td>0.000000</td>\n",
       "      <td>0.000000</td>\n",
       "      <td>0.542484</td>\n",
       "      <td>0.000000</td>\n",
       "      <td>0.000000</td>\n",
       "      <td>0.238636</td>\n",
       "      <td>0.152941</td>\n",
       "      <td>0.231579</td>\n",
       "      <td>0.380000</td>\n",
       "      <td>0.396040</td>\n",
       "      <td>0.592798</td>\n",
       "    </tr>\n",
       "  </tbody>\n",
       "</table>\n",
       "</div>"
      ],
      "text/plain": [
       "                1         2         3         4         5         7     \\\n",
       "acc(train)  0.556122  0.564286  0.539796  0.568367  0.542857  0.601020   \n",
       "acc(valid)  0.593272  0.562691  0.571865  0.559633  0.568807  0.590214   \n",
       "f1(train)   0.000000  0.009281  0.548549  0.004706  0.013216  0.290381   \n",
       "f1(valid)   0.000000  0.000000  0.542484  0.000000  0.000000  0.238636   \n",
       "\n",
       "                10        25        100       250       1000  \n",
       "acc(train)  0.594898  0.573469  0.680612  0.705102  0.902041  \n",
       "acc(valid)  0.559633  0.553517  0.620795  0.626911  0.550459  \n",
       "f1(train)   0.194726  0.264085  0.470389  0.546311  0.894273  \n",
       "f1(valid)   0.152941  0.231579  0.380000  0.396040  0.592798  "
      ]
     },
     "execution_count": 349,
     "metadata": {},
     "output_type": "execute_result"
    }
   ],
   "source": [
    "pd.DataFrame(stats[label]['MLP'])"
   ]
  },
  {
   "cell_type": "code",
   "execution_count": 328,
   "metadata": {
    "collapsed": false,
    "deletable": true,
    "editable": true
   },
   "outputs": [],
   "source": [
    "# # %load ../display_2d.py\n",
    "# ###\n",
    "# # plot some of the data in 2d (with PCA and MDS)\n",
    "# # mainly copied from lab 3\n",
    "# ###\n",
    "# # INPUT:\n",
    "# #\tfulldata from join_data.py\n",
    "# #\tkeys_content_features: array(String) of column keys\n",
    "# # PRINTS:\n",
    "# #\t2d graphs using PCA and MDS\n",
    "# ###\n",
    "\n",
    "# from scripts import *\n",
    "\n",
    "# X = X_full[keys_tfdf]\n",
    "# y = y_full['Commercial']\n",
    "\n",
    "# ### From Lab 3, edited\n",
    "# def scatter_2d_label(X_2d, y, alpha=0.5):\n",
    "#     \"\"\"Visualuse a 2D embedding with corresponding labels.\n",
    "\n",
    "#     X_2d : ndarray, shape (n_samples,2)\n",
    "#         Low-dimensional feature representation.\n",
    "\n",
    "#     y : ndarray, shape (n_samples,)\n",
    "#         Labels corresponding to the entries in X_2d.\n",
    "\n",
    "#     s : float\n",
    "#         Marker size for scatter plot.\n",
    "\n",
    "#     alpha : float\n",
    "#         Transparency for scatter plot.\n",
    "\n",
    "#     lw : float\n",
    "#         Linewidth for scatter plot.\n",
    "#     \"\"\"\n",
    "#     targets = np.unique(y)\n",
    "\n",
    "#     colors = [plt.cm.RdYlGn( int(i*plt.cm.RdYlGn.N/(len(targets)-1)) ) for i in range(len(targets))]\n",
    "#     for color, target in zip(colors, targets):\n",
    "#         plotx = [x for i,x in enumerate(X_2d[:,0]) if (y[i]==target)]\n",
    "#         ploty = [x for i,x in enumerate(X_2d[:,1]) if (y[i]==target)]\n",
    "#         plt.scatter(plotx, ploty, color=color, label=target, alpha=alpha)\n",
    "#     plt.legend()\n",
    "#     plt.show()\n",
    "\n",
    "# from sklearn.preprocessing import StandardScaler\n",
    "# X_sc = StandardScaler().fit_transform(X.astype(np.float))\n",
    "\n",
    "\n",
    "# ### PCA\n",
    "\n",
    "# from sklearn.decomposition import KernelPCA\n",
    "\n",
    "# plt.figure(figsize=(10,6))\n",
    "# pca = KernelPCA( n_components=2, kernel='rbf' )\n",
    "# X_2d = pca.fit_transform(X_sc)\n",
    "# scatter_2d_label(X_2d, y)\n",
    "# plt.show()\n",
    "\n",
    "# ### MDS\n",
    "\n",
    "# from sklearn.manifold import MDS\n",
    "# sns.set(font_scale=1.)\n",
    "# mds = MDS(n_components=2, metric=True, n_init=1, max_iter=100, random_state=10)\n",
    "# X_mds_2d = mds.fit_transform(X_sc)\n",
    "# plt.title('Metric MDS, stress: {}'.format(mds.stress_))\n",
    "# plt.xlabel('Component 1')\n",
    "# plt.ylabel('Component 2')\n",
    "# plt.legend(loc='center left', bbox_to_anchor=[1.01, 0.5], scatterpoints=3)\n",
    "# scatter_2d_label(X_mds_2d, y)\n",
    "# plt.show()"
   ]
  },
  {
   "cell_type": "code",
   "execution_count": null,
   "metadata": {
    "collapsed": true,
    "deletable": true,
    "editable": true
   },
   "outputs": [],
   "source": []
  }
 ],
 "metadata": {
  "kernelspec": {
   "display_name": "Python 2",
   "language": "python",
   "name": "python2"
  },
  "language_info": {
   "codemirror_mode": {
    "name": "ipython",
    "version": 2
   },
   "file_extension": ".py",
   "mimetype": "text/x-python",
   "name": "python",
   "nbconvert_exporter": "python",
   "pygments_lexer": "ipython2",
   "version": "2.7.12"
  }
 },
 "nbformat": 4,
 "nbformat_minor": 2
}
